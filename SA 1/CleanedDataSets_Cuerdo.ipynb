{
 "cells": [
  {
   "cell_type": "code",
   "execution_count": 1,
   "id": "d1f1c15f-2e79-442f-93f4-876c5a09dc14",
   "metadata": {},
   "outputs": [],
   "source": [
    "import polars as pl\n",
    "import numpy as np"
   ]
  },
  {
   "cell_type": "code",
   "execution_count": 1,
   "id": "aabca083-500f-4ac2-aa2e-0bd3c84b74f4",
   "metadata": {},
   "outputs": [
    {
     "data": {
      "text/plain": [
       "['.anaconda',\n",
       " '.conda',\n",
       " '.condarc',\n",
       " '.continuum',\n",
       " '.dotnet',\n",
       " '.idlerc',\n",
       " '.ipynb_checkpoints',\n",
       " '.ipython',\n",
       " '.jupyter',\n",
       " '.keras',\n",
       " '.matplotlib',\n",
       " '.ms-ad',\n",
       " '.templateengine',\n",
       " '.virtual_documents',\n",
       " '1. A TO F_CUERDO,NAOMI HANNAH A.ipynb',\n",
       " '2. FIBONACCI_CUERDO, NAOMI HANNAH A.ipynb',\n",
       " '3. MATH EQUATION_CUERDO, NAOMI HANNAH A.ipynb',\n",
       " 'Activity 5_Cuerdo.ipynb',\n",
       " 'Activity 6 .ipynb',\n",
       " 'AFUNDAR_Simplex.ipynb',\n",
       " 'amazon.csv',\n",
       " 'anaconda3',\n",
       " 'APM 1137 FA 4 codes.ipynb',\n",
       " 'APM1134- FA1 PART 2.ipynb',\n",
       " 'APM1134-ILW1_Cuerdo-NaomiHannah.ipynb',\n",
       " 'AppData',\n",
       " 'Application Data',\n",
       " 'Bonus - Heart Disease.ipynb',\n",
       " 'brainet_decision_tree',\n",
       " 'brainet_decision_tree.dot',\n",
       " 'calendar_cleaned.csv',\n",
       " 'CleanedDataSets_Cuerdo.ipynb',\n",
       " 'cnn_model.py',\n",
       " 'Contacts',\n",
       " 'Cookies',\n",
       " 'Cuerdo, Naomi Hannah A',\n",
       " 'CUERDO-KHAFAJI-FA9 (1).ipynb',\n",
       " 'CUERDO-KHAFAJI-FA9.ipynb',\n",
       " 'dat sci .ipynb',\n",
       " 'data warehousing - project.ipynb',\n",
       " 'decision_tree',\n",
       " 'Descriptive Statistics groupby rank.docx',\n",
       " 'Desktop',\n",
       " 'Documents',\n",
       " 'Downloads',\n",
       " 'DSC1101- Midterm Exam_Cuerdo, Naomi Hannah A..ipynb',\n",
       " 'FA 3 - number 3.ipynb',\n",
       " 'FA 5_Cuerdo.ipynb',\n",
       " 'FA1 PART 2.ipynb',\n",
       " 'FA1_APM1137-Cuerdo, Naomi Hannah.ipynb',\n",
       " 'FA1_CUERDO, NAOMI HANNAH A..py',\n",
       " 'FA2_APM1137-Cuerdo, Naomi Hannah A..ipynb',\n",
       " 'FA2_CUERDO, NAOMI HANNAH A..py',\n",
       " 'FA3_Cuerdo.ipynb',\n",
       " 'FA4_Cuerdo, Naomi Hannah A..ipynb',\n",
       " 'FA5.ipynb',\n",
       " 'FA5_Cuerdo, Naomi Hannah .ipynb',\n",
       " 'FA6_CUERDO, NAOMI HANNAH A.ipynb',\n",
       " 'FA6_Cuerdo, Naomi Hannah.ipynb',\n",
       " 'FA7 pacheck please ty.ipynb',\n",
       " 'FA7-Cuerdo, Naomi Hannah A..ipynb',\n",
       " 'FA7-Group1-Cuerdo-Khafaji.ipynb',\n",
       " 'FA8_CUERDO, NAOMI HANNAH A..ipynb',\n",
       " 'FA9_CUERDO_KHAFAJI_HALF (1).ipynb',\n",
       " 'FA9_CUERDO_KHAFAJI_HALF.ipynb',\n",
       " 'Favorites',\n",
       " 'fcking codes.ipynb',\n",
       " 'final project pls kill me na.ipynb',\n",
       " 'FinalProject_FinalSA_Cuerdo.py',\n",
       " 'FSL-Dataset-v3-9',\n",
       " 'iCloudDrive',\n",
       " 'LBP_Cuerdo_NaomiHannah 2.pdf',\n",
       " 'Links',\n",
       " 'listings_cleaned.csv',\n",
       " 'Local Settings',\n",
       " 'Music',\n",
       " 'My Documents',\n",
       " 'mydata',\n",
       " 'neighbourhoods_cleaned.csv',\n",
       " 'NetHood',\n",
       " 'NTUSER.DAT',\n",
       " 'ntuser.dat.LOG1',\n",
       " 'ntuser.dat.LOG2',\n",
       " 'NTUSER.DAT{2ad838bc-efea-11ee-a54d-000d3a94eaa1}.TM.blf',\n",
       " 'NTUSER.DAT{2ad838bc-efea-11ee-a54d-000d3a94eaa1}.TMContainer00000000000000000001.regtrans-ms',\n",
       " 'NTUSER.DAT{2ad838bc-efea-11ee-a54d-000d3a94eaa1}.TMContainer00000000000000000002.regtrans-ms',\n",
       " 'ntuser.ini',\n",
       " 'NumAl (1).ipynb',\n",
       " 'NumAl_SA2-2.ipynb',\n",
       " 'OLD CODES.ipynb',\n",
       " 'OneDrive',\n",
       " 'path_to_save_images',\n",
       " 'Pictures',\n",
       " 'PrintHood',\n",
       " 'PYTHON_SA2_GROUP1_PART2 (1).ipynb',\n",
       " 'PYTHON_SA2_GROUP1_PART2 (2).ipynb',\n",
       " 'Question 2, Machine Exercise - Cuerdo.ipynb',\n",
       " 'Question 3, Machine Exercise.ipynb',\n",
       " 'RealTimeObjectDetection',\n",
       " 'Recent',\n",
       " 'recoginse - test.ipynb',\n",
       " 'recognise.py',\n",
       " 'SA 1, Question 1 - Cuerdo.ipynb',\n",
       " 'SA 1, Question 2.ipynb',\n",
       " 'SA 1- 18  COMPLETE.ipynb',\n",
       " 'SA 1- 18 (Wala pa yung 15 bobo ni sir eh).ipynb',\n",
       " 'SA 1- 9.ipynb',\n",
       " 'SA 2 - APM 1137 - Numbers 2-4.ipynb',\n",
       " 'SA1_Cuerdo, Naomi Hannah A..ipynb',\n",
       " 'SA1_CUERDO, NAOMI HANNAH A.ipynb',\n",
       " 'SA2 afundar rodillas 2 and 3.ipynb',\n",
       " 'Saved Games',\n",
       " 'Searches',\n",
       " 'SendTo',\n",
       " 'Sequences of Real Numbers Part 2.pdf',\n",
       " 'Sequences of Real Numbers_annotated.pdf',\n",
       " 'sign_language_model.h5',\n",
       " 'sign_language_model.keras',\n",
       " 'Simple-Sign-Language-Detector',\n",
       " 'Simple-Sign-Language-Detector-master.zip',\n",
       " 'source',\n",
       " 'Spotify_Youtube.csv',\n",
       " 'Start Menu',\n",
       " 'Templates',\n",
       " 'Tensorflow',\n",
       " 'TEST - Nov 22, 2024.ipynb',\n",
       " 'TEST - November 28, 2024.ipynb',\n",
       " 'test AGAIN.ipynb',\n",
       " 'test.ipynb',\n",
       " 'test_image.jpg',\n",
       " 'test_model.py',\n",
       " 'Trained_model.h5',\n",
       " 'Untitled.ipynb',\n",
       " 'Untitled1.ipynb',\n",
       " 'Untitled10.ipynb',\n",
       " 'Untitled11.ipynb',\n",
       " 'Untitled12.ipynb',\n",
       " 'Untitled13.ipynb',\n",
       " 'Untitled2.ipynb',\n",
       " 'Untitled3.ipynb',\n",
       " 'Untitled4.ipynb',\n",
       " 'Untitled5.ipynb',\n",
       " 'Untitled6.ipynb',\n",
       " 'Untitled7.ipynb',\n",
       " 'Untitled8.ipynb',\n",
       " 'Untitled9.ipynb',\n",
       " 'Videos',\n",
       " 'Week 2.ipynb',\n",
       " 'Week 2_Cuerdo.ipynb',\n",
       " 'Week2_Cuerdo.ipynb',\n",
       " 'word_guessing_game.ipynb',\n",
       " '[FINAL - TestTrain Model].ipynb',\n",
       " '[WORKING FILE] Recognise - .ipynb']"
      ]
     },
     "execution_count": 1,
     "metadata": {},
     "output_type": "execute_result"
    }
   ],
   "source": [
    "import os\n",
    "\n",
    "os.listdir()"
   ]
  },
  {
   "cell_type": "code",
   "execution_count": 5,
   "id": "23e1d3f1-4d02-4855-b021-a97c333ed6fb",
   "metadata": {},
   "outputs": [
    {
     "data": {
      "text/html": [
       "<div><style>\n",
       ".dataframe > thead > tr,\n",
       ".dataframe > tbody > tr {\n",
       "  text-align: right;\n",
       "  white-space: pre-wrap;\n",
       "}\n",
       "</style>\n",
       "<small>shape: (5, 7)</small><table border=\"1\" class=\"dataframe\"><thead><tr><th>listing_id</th><th>date</th><th>available</th><th>price</th><th>adjusted_price</th><th>minimum_nights</th><th>maximum_nights</th></tr><tr><td>i64</td><td>str</td><td>str</td><td>str</td><td>str</td><td>i64</td><td>i64</td></tr></thead><tbody><tr><td>91031</td><td>&quot;2025-03-10&quot;</td><td>&quot;f&quot;</td><td>&quot;$99.00&quot;</td><td>null</td><td>6</td><td>89</td></tr><tr><td>91031</td><td>&quot;2025-03-11&quot;</td><td>&quot;f&quot;</td><td>&quot;$99.00&quot;</td><td>null</td><td>6</td><td>89</td></tr><tr><td>91031</td><td>&quot;2025-03-12&quot;</td><td>&quot;f&quot;</td><td>&quot;$99.00&quot;</td><td>null</td><td>6</td><td>89</td></tr><tr><td>91031</td><td>&quot;2025-03-13&quot;</td><td>&quot;f&quot;</td><td>&quot;$99.00&quot;</td><td>null</td><td>6</td><td>89</td></tr><tr><td>91031</td><td>&quot;2025-03-14&quot;</td><td>&quot;f&quot;</td><td>&quot;$99.00&quot;</td><td>null</td><td>6</td><td>89</td></tr></tbody></table></div>"
      ],
      "text/plain": [
       "shape: (5, 7)\n",
       "┌────────────┬────────────┬───────────┬────────┬────────────────┬────────────────┬────────────────┐\n",
       "│ listing_id ┆ date       ┆ available ┆ price  ┆ adjusted_price ┆ minimum_nights ┆ maximum_nights │\n",
       "│ ---        ┆ ---        ┆ ---       ┆ ---    ┆ ---            ┆ ---            ┆ ---            │\n",
       "│ i64        ┆ str        ┆ str       ┆ str    ┆ str            ┆ i64            ┆ i64            │\n",
       "╞════════════╪════════════╪═══════════╪════════╪════════════════╪════════════════╪════════════════╡\n",
       "│ 91031      ┆ 2025-03-10 ┆ f         ┆ $99.00 ┆ null           ┆ 6              ┆ 89             │\n",
       "│ 91031      ┆ 2025-03-11 ┆ f         ┆ $99.00 ┆ null           ┆ 6              ┆ 89             │\n",
       "│ 91031      ┆ 2025-03-12 ┆ f         ┆ $99.00 ┆ null           ┆ 6              ┆ 89             │\n",
       "│ 91031      ┆ 2025-03-13 ┆ f         ┆ $99.00 ┆ null           ┆ 6              ┆ 89             │\n",
       "│ 91031      ┆ 2025-03-14 ┆ f         ┆ $99.00 ┆ null           ┆ 6              ┆ 89             │\n",
       "└────────────┴────────────┴───────────┴────────┴────────────────┴────────────────┴────────────────┘"
      ]
     },
     "execution_count": 5,
     "metadata": {},
     "output_type": "execute_result"
    }
   ],
   "source": [
    "calendar = pl.scan_csv(\"C:/Users/naomi/Documents/SCHOOL FILES/3RD YEAR/MIDYEAR/DSC1111/calendar.csv\")\n",
    "calendar.collect().head()"
   ]
  },
  {
   "cell_type": "code",
   "execution_count": 6,
   "id": "90ce27c2-94c1-4d6e-8ef6-c2ccfbb31f31",
   "metadata": {},
   "outputs": [
    {
     "data": {
      "text/html": [
       "<div><style>\n",
       ".dataframe > thead > tr,\n",
       ".dataframe > tbody > tr {\n",
       "  text-align: right;\n",
       "  white-space: pre-wrap;\n",
       "}\n",
       "</style>\n",
       "<small>shape: (5, 79)</small><table border=\"1\" class=\"dataframe\"><thead><tr><th>id</th><th>listing_url</th><th>scrape_id</th><th>last_scraped</th><th>source</th><th>name</th><th>description</th><th>neighborhood_overview</th><th>picture_url</th><th>host_id</th><th>host_url</th><th>host_name</th><th>host_since</th><th>host_location</th><th>host_about</th><th>host_response_time</th><th>host_response_rate</th><th>host_acceptance_rate</th><th>host_is_superhost</th><th>host_thumbnail_url</th><th>host_picture_url</th><th>host_neighbourhood</th><th>host_listings_count</th><th>host_total_listings_count</th><th>host_verifications</th><th>host_has_profile_pic</th><th>host_identity_verified</th><th>neighbourhood</th><th>neighbourhood_cleansed</th><th>neighbourhood_group_cleansed</th><th>latitude</th><th>longitude</th><th>property_type</th><th>room_type</th><th>accommodates</th><th>bathrooms</th><th>bathrooms_text</th><th>&hellip;</th><th>maximum_nights</th><th>minimum_minimum_nights</th><th>maximum_minimum_nights</th><th>minimum_maximum_nights</th><th>maximum_maximum_nights</th><th>minimum_nights_avg_ntm</th><th>maximum_nights_avg_ntm</th><th>calendar_updated</th><th>has_availability</th><th>availability_30</th><th>availability_60</th><th>availability_90</th><th>availability_365</th><th>calendar_last_scraped</th><th>number_of_reviews</th><th>number_of_reviews_ltm</th><th>number_of_reviews_l30d</th><th>availability_eoy</th><th>number_of_reviews_ly</th><th>estimated_occupancy_l365d</th><th>estimated_revenue_l365d</th><th>first_review</th><th>last_review</th><th>review_scores_rating</th><th>review_scores_accuracy</th><th>review_scores_cleanliness</th><th>review_scores_checkin</th><th>review_scores_communication</th><th>review_scores_location</th><th>review_scores_value</th><th>license</th><th>instant_bookable</th><th>calculated_host_listings_count</th><th>calculated_host_listings_count_entire_homes</th><th>calculated_host_listings_count_private_rooms</th><th>calculated_host_listings_count_shared_rooms</th><th>reviews_per_month</th></tr><tr><td>i64</td><td>str</td><td>i64</td><td>str</td><td>str</td><td>str</td><td>str</td><td>str</td><td>str</td><td>i64</td><td>str</td><td>str</td><td>str</td><td>str</td><td>str</td><td>str</td><td>str</td><td>str</td><td>str</td><td>str</td><td>str</td><td>str</td><td>i64</td><td>i64</td><td>str</td><td>str</td><td>str</td><td>str</td><td>str</td><td>str</td><td>f64</td><td>f64</td><td>str</td><td>str</td><td>i64</td><td>f64</td><td>str</td><td>&hellip;</td><td>i64</td><td>i64</td><td>i64</td><td>i64</td><td>i64</td><td>f64</td><td>f64</td><td>str</td><td>str</td><td>i64</td><td>i64</td><td>i64</td><td>i64</td><td>str</td><td>i64</td><td>i64</td><td>i64</td><td>i64</td><td>i64</td><td>i64</td><td>i64</td><td>str</td><td>str</td><td>f64</td><td>f64</td><td>f64</td><td>f64</td><td>f64</td><td>f64</td><td>f64</td><td>str</td><td>str</td><td>i64</td><td>i64</td><td>i64</td><td>i64</td><td>f64</td></tr></thead><tbody><tr><td>91031</td><td>&quot;https://www.airbnb.com/rooms/9…</td><td>20250304052011</td><td>&quot;2025-03-10&quot;</td><td>&quot;city scrape&quot;</td><td>&quot;Apartment by Battersea Power S…</td><td>&quot;Cozy 1 bedroom flat, perfect f…</td><td>&quot;Flat is located on South side …</td><td>&quot;https://a0.muscache.com/pictur…</td><td>491004</td><td>&quot;https://www.airbnb.com/users/s…</td><td>&quot;Kinga&quot;</td><td>&quot;2011-04-07&quot;</td><td>&quot;London, United Kingdom&quot;</td><td>&quot;Hi, I&#x27;m Kinga. Please send me …</td><td>&quot;within a few hours&quot;</td><td>&quot;88%&quot;</td><td>&quot;56%&quot;</td><td>&quot;f&quot;</td><td>&quot;https://a0.muscache.com/im/pic…</td><td>&quot;https://a0.muscache.com/im/pic…</td><td>&quot;Nine Elms&quot;</td><td>1</td><td>1</td><td>&quot;[&#x27;email&#x27;, &#x27;phone&#x27;]&quot;</td><td>&quot;t&quot;</td><td>&quot;t&quot;</td><td>&quot;Neighborhood highlights&quot;</td><td>&quot;Wandsworth&quot;</td><td>null</td><td>51.48089</td><td>-0.14775</td><td>&quot;Entire rental unit&quot;</td><td>&quot;Entire home/apt&quot;</td><td>2</td><td>1.0</td><td>&quot;1 bath&quot;</td><td>&hellip;</td><td>89</td><td>6</td><td>6</td><td>89</td><td>89</td><td>6.0</td><td>89.0</td><td>null</td><td>&quot;t&quot;</td><td>20</td><td>39</td><td>60</td><td>72</td><td>&quot;2025-03-10&quot;</td><td>25</td><td>4</td><td>1</td><td>72</td><td>3</td><td>48</td><td>4512</td><td>&quot;2011-05-03&quot;</td><td>&quot;2025-03-05&quot;</td><td>4.23</td><td>4.56</td><td>4.4</td><td>4.84</td><td>4.75</td><td>4.64</td><td>4.28</td><td>null</td><td>&quot;f&quot;</td><td>1</td><td>1</td><td>0</td><td>0</td><td>0.15</td></tr><tr><td>91287</td><td>&quot;https://www.airbnb.com/rooms/9…</td><td>20250304052011</td><td>&quot;2025-03-12&quot;</td><td>&quot;previous scrape&quot;</td><td>&quot;The Barnsbury, London Apartmen…</td><td>null</td><td>null</td><td>&quot;https://a0.muscache.com/pictur…</td><td>493497</td><td>&quot;https://www.airbnb.com/users/s…</td><td>&quot;Clive&quot;</td><td>&quot;2011-04-08&quot;</td><td>null</td><td>&quot;Hi! I&#x27;m Clive! I look forward …</td><td>&quot;within an hour&quot;</td><td>&quot;100%&quot;</td><td>&quot;91%&quot;</td><td>null</td><td>&quot;https://a0.muscache.com/im/pic…</td><td>&quot;https://a0.muscache.com/im/pic…</td><td>&quot;Islington&quot;</td><td>13</td><td>31</td><td>&quot;[&#x27;email&#x27;, &#x27;phone&#x27;]&quot;</td><td>&quot;t&quot;</td><td>&quot;t&quot;</td><td>null</td><td>&quot;Islington&quot;</td><td>null</td><td>51.54026</td><td>-0.11712</td><td>&quot;Entire rental unit&quot;</td><td>&quot;Entire home/apt&quot;</td><td>4</td><td>null</td><td>&quot;1 bath&quot;</td><td>&hellip;</td><td>365</td><td>5</td><td>6</td><td>365</td><td>365</td><td>5.3</td><td>365.0</td><td>null</td><td>&quot;t&quot;</td><td>0</td><td>0</td><td>0</td><td>0</td><td>&quot;2025-03-12&quot;</td><td>66</td><td>4</td><td>0</td><td>0</td><td>4</td><td>37</td><td>null</td><td>&quot;2011-05-17&quot;</td><td>&quot;2024-12-04&quot;</td><td>4.51</td><td>4.54</td><td>4.69</td><td>4.62</td><td>4.66</td><td>4.51</td><td>4.29</td><td>null</td><td>&quot;f&quot;</td><td>4</td><td>4</td><td>0</td><td>0</td><td>0.39</td></tr><tr><td>92352</td><td>&quot;https://www.airbnb.com/rooms/9…</td><td>20250304052011</td><td>&quot;2025-03-12&quot;</td><td>&quot;previous scrape&quot;</td><td>&quot;Flat in Islington&quot;</td><td>&quot;My place is close to Highbury …</td><td>&quot;My neighbourhood is exciting, …</td><td>&quot;https://a0.muscache.com/pictur…</td><td>497172</td><td>&quot;https://www.airbnb.com/users/s…</td><td>&quot;Natalie&quot;</td><td>&quot;2011-04-10&quot;</td><td>&quot;London, United Kingdom&quot;</td><td>&quot;Hey, I&#x27;m Natalie and I&#x27;m origi…</td><td>&quot;within a few hours&quot;</td><td>&quot;100%&quot;</td><td>&quot;81%&quot;</td><td>&quot;t&quot;</td><td>&quot;https://a0.muscache.com/im/pic…</td><td>&quot;https://a0.muscache.com/im/pic…</td><td>&quot;Canonbury&quot;</td><td>1</td><td>1</td><td>&quot;[&#x27;email&#x27;, &#x27;phone&#x27;]&quot;</td><td>&quot;t&quot;</td><td>&quot;t&quot;</td><td>&quot;Neighborhood highlights&quot;</td><td>&quot;Islington&quot;</td><td>null</td><td>51.54113</td><td>-0.09881</td><td>&quot;Entire condo&quot;</td><td>&quot;Entire home/apt&quot;</td><td>2</td><td>null</td><td>&quot;1 bath&quot;</td><td>&hellip;</td><td>121</td><td>7</td><td>7</td><td>121</td><td>121</td><td>7.0</td><td>121.0</td><td>null</td><td>&quot;t&quot;</td><td>0</td><td>0</td><td>0</td><td>0</td><td>&quot;2025-03-12&quot;</td><td>73</td><td>14</td><td>0</td><td>0</td><td>14</td><td>129</td><td>null</td><td>&quot;2016-12-11&quot;</td><td>&quot;2024-12-02&quot;</td><td>4.86</td><td>4.92</td><td>4.86</td><td>4.93</td><td>4.97</td><td>4.95</td><td>4.77</td><td>null</td><td>&quot;f&quot;</td><td>1</td><td>1</td><td>0</td><td>0</td><td>0.73</td></tr><tr><td>92399</td><td>&quot;https://www.airbnb.com/rooms/9…</td><td>20250304052011</td><td>&quot;2025-03-15&quot;</td><td>&quot;city scrape&quot;</td><td>&quot;modern self contained flat isl…</td><td>&quot;FULLY SELF CONTAINED. A&nbsp;&nbsp;newly…</td><td>&quot;Newington Green is a wonderful…</td><td>&quot;https://a0.muscache.com/pictur…</td><td>497366</td><td>&quot;https://www.airbnb.com/users/s…</td><td>&quot;Andrea&quot;</td><td>&quot;2011-04-10&quot;</td><td>&quot;London, United Kingdom&quot;</td><td>&quot;We have spent many years resto…</td><td>&quot;within an hour&quot;</td><td>&quot;100%&quot;</td><td>&quot;80%&quot;</td><td>&quot;t&quot;</td><td>&quot;https://a0.muscache.com/im/pic…</td><td>&quot;https://a0.muscache.com/im/pic…</td><td>&quot;LB of Islington&quot;</td><td>2</td><td>4</td><td>&quot;[&#x27;email&#x27;, &#x27;phone&#x27;, &#x27;work_email…</td><td>&quot;t&quot;</td><td>&quot;t&quot;</td><td>&quot;Neighborhood highlights&quot;</td><td>&quot;Islington&quot;</td><td>null</td><td>51.55104</td><td>-0.08324</td><td>&quot;Entire guest suite&quot;</td><td>&quot;Entire home/apt&quot;</td><td>2</td><td>1.0</td><td>&quot;1 bath&quot;</td><td>&hellip;</td><td>365</td><td>1</td><td>1</td><td>365</td><td>365</td><td>1.0</td><td>365.0</td><td>null</td><td>&quot;t&quot;</td><td>8</td><td>15</td><td>35</td><td>288</td><td>&quot;2025-03-15&quot;</td><td>317</td><td>26</td><td>2</td><td>215</td><td>22</td><td>239</td><td>20554</td><td>&quot;2011-07-05&quot;</td><td>&quot;2025-02-27&quot;</td><td>4.84</td><td>4.87</td><td>4.92</td><td>4.95</td><td>4.96</td><td>4.82</td><td>4.77</td><td>null</td><td>&quot;f&quot;</td><td>2</td><td>2</td><td>0</td><td>0</td><td>1.9</td></tr><tr><td>93015</td><td>&quot;https://www.airbnb.com/rooms/9…</td><td>20250304052011</td><td>&quot;2025-03-06&quot;</td><td>&quot;city scrape&quot;</td><td>&quot;2 bed West Kensington apartmen…</td><td>&quot;Gorgeous 2 bed ground floor ap…</td><td>&quot;A bit of history about the W14…</td><td>&quot;https://a0.muscache.com/pictur…</td><td>499704</td><td>&quot;https://www.airbnb.com/users/s…</td><td>&quot;Sarah&quot;</td><td>&quot;2011-04-11&quot;</td><td>&quot;Riyadh, Saudi Arabia&quot;</td><td>&quot;Been living in London for over…</td><td>&quot;N/A&quot;</td><td>&quot;N/A&quot;</td><td>&quot;100%&quot;</td><td>&quot;f&quot;</td><td>&quot;https://a0.muscache.com/im/pic…</td><td>&quot;https://a0.muscache.com/im/pic…</td><td>&quot;Hammersmith&quot;</td><td>1</td><td>2</td><td>&quot;[&#x27;email&#x27;, &#x27;phone&#x27;]&quot;</td><td>&quot;t&quot;</td><td>&quot;t&quot;</td><td>&quot;Neighborhood highlights&quot;</td><td>&quot;Hammersmith and Fulham&quot;</td><td>null</td><td>51.49993</td><td>-0.21707</td><td>&quot;Entire rental unit&quot;</td><td>&quot;Entire home/apt&quot;</td><td>5</td><td>1.0</td><td>&quot;1 bath&quot;</td><td>&hellip;</td><td>1125</td><td>5</td><td>5</td><td>1125</td><td>1125</td><td>5.0</td><td>1125.0</td><td>null</td><td>&quot;t&quot;</td><td>14</td><td>18</td><td>32</td><td>33</td><td>&quot;2025-03-06&quot;</td><td>40</td><td>3</td><td>0</td><td>33</td><td>4</td><td>30</td><td>5250</td><td>&quot;2012-02-01&quot;</td><td>&quot;2024-11-14&quot;</td><td>4.85</td><td>4.79</td><td>4.62</td><td>4.87</td><td>4.9</td><td>4.87</td><td>4.74</td><td>null</td><td>&quot;f&quot;</td><td>1</td><td>1</td><td>0</td><td>0</td><td>0.25</td></tr></tbody></table></div>"
      ],
      "text/plain": [
       "shape: (5, 79)\n",
       "┌───────┬───────────────┬───────────────┬──────────────┬───┬──────────────┬──────────────┬──────────────┬──────────────┐\n",
       "│ id    ┆ listing_url   ┆ scrape_id     ┆ last_scraped ┆ … ┆ calculated_h ┆ calculated_h ┆ calculated_h ┆ reviews_per_ │\n",
       "│ ---   ┆ ---           ┆ ---           ┆ ---          ┆   ┆ ost_listings ┆ ost_listings ┆ ost_listings ┆ month        │\n",
       "│ i64   ┆ str           ┆ i64           ┆ str          ┆   ┆ _count…      ┆ _count…      ┆ _count…      ┆ ---          │\n",
       "│       ┆               ┆               ┆              ┆   ┆ ---          ┆ ---          ┆ ---          ┆ f64          │\n",
       "│       ┆               ┆               ┆              ┆   ┆ i64          ┆ i64          ┆ i64          ┆              │\n",
       "╞═══════╪═══════════════╪═══════════════╪══════════════╪═══╪══════════════╪══════════════╪══════════════╪══════════════╡\n",
       "│ 91031 ┆ https://www.a ┆ 2025030405201 ┆ 2025-03-10   ┆ … ┆ 1            ┆ 0            ┆ 0            ┆ 0.15         │\n",
       "│       ┆ irbnb.com/roo ┆ 1             ┆              ┆   ┆              ┆              ┆              ┆              │\n",
       "│       ┆ ms/9…         ┆               ┆              ┆   ┆              ┆              ┆              ┆              │\n",
       "│ 91287 ┆ https://www.a ┆ 2025030405201 ┆ 2025-03-12   ┆ … ┆ 4            ┆ 0            ┆ 0            ┆ 0.39         │\n",
       "│       ┆ irbnb.com/roo ┆ 1             ┆              ┆   ┆              ┆              ┆              ┆              │\n",
       "│       ┆ ms/9…         ┆               ┆              ┆   ┆              ┆              ┆              ┆              │\n",
       "│ 92352 ┆ https://www.a ┆ 2025030405201 ┆ 2025-03-12   ┆ … ┆ 1            ┆ 0            ┆ 0            ┆ 0.73         │\n",
       "│       ┆ irbnb.com/roo ┆ 1             ┆              ┆   ┆              ┆              ┆              ┆              │\n",
       "│       ┆ ms/9…         ┆               ┆              ┆   ┆              ┆              ┆              ┆              │\n",
       "│ 92399 ┆ https://www.a ┆ 2025030405201 ┆ 2025-03-15   ┆ … ┆ 2            ┆ 0            ┆ 0            ┆ 1.9          │\n",
       "│       ┆ irbnb.com/roo ┆ 1             ┆              ┆   ┆              ┆              ┆              ┆              │\n",
       "│       ┆ ms/9…         ┆               ┆              ┆   ┆              ┆              ┆              ┆              │\n",
       "│ 93015 ┆ https://www.a ┆ 2025030405201 ┆ 2025-03-06   ┆ … ┆ 1            ┆ 0            ┆ 0            ┆ 0.25         │\n",
       "│       ┆ irbnb.com/roo ┆ 1             ┆              ┆   ┆              ┆              ┆              ┆              │\n",
       "│       ┆ ms/9…         ┆               ┆              ┆   ┆              ┆              ┆              ┆              │\n",
       "└───────┴───────────────┴───────────────┴──────────────┴───┴──────────────┴──────────────┴──────────────┴──────────────┘"
      ]
     },
     "execution_count": 6,
     "metadata": {},
     "output_type": "execute_result"
    }
   ],
   "source": [
    "listings = pl.scan_csv(\"C:/Users/naomi/Documents/SCHOOL FILES/3RD YEAR/MIDYEAR/DSC1111/listings.csv\")\n",
    "listings.collect().head()"
   ]
  },
  {
   "cell_type": "code",
   "execution_count": 7,
   "id": "9357d1fe-9ef2-4a45-9898-beb585ab22d8",
   "metadata": {},
   "outputs": [
    {
     "data": {
      "text/html": [
       "<div><style>\n",
       ".dataframe > thead > tr,\n",
       ".dataframe > tbody > tr {\n",
       "  text-align: right;\n",
       "  white-space: pre-wrap;\n",
       "}\n",
       "</style>\n",
       "<small>shape: (5, 6)</small><table border=\"1\" class=\"dataframe\"><thead><tr><th>listing_id</th><th>id</th><th>date</th><th>reviewer_id</th><th>reviewer_name</th><th>comments</th></tr><tr><td>i64</td><td>i64</td><td>str</td><td>i64</td><td>str</td><td>str</td></tr></thead><tbody><tr><td>13913</td><td>80770</td><td>&quot;2010-08-18&quot;</td><td>177109</td><td>&quot;Michael&quot;</td><td>&quot;My girlfriend and I hadn&#x27;t kno…</td></tr><tr><td>13913</td><td>367568</td><td>&quot;2011-07-11&quot;</td><td>19835707</td><td>&quot;Mathias&quot;</td><td>&quot;Alina was a really good host. …</td></tr><tr><td>13913</td><td>529579</td><td>&quot;2011-09-13&quot;</td><td>1110304</td><td>&quot;Kristin&quot;</td><td>&quot;Alina is an amazing host. She …</td></tr><tr><td>13913</td><td>595481</td><td>&quot;2011-10-03&quot;</td><td>1216358</td><td>&quot;Camilla&quot;</td><td>&quot;Alina&#x27;s place is so nice, the …</td></tr><tr><td>13913</td><td>612947</td><td>&quot;2011-10-09&quot;</td><td>490840</td><td>&quot;Jorik&quot;</td><td>&quot;Nice location in Islington are…</td></tr></tbody></table></div>"
      ],
      "text/plain": [
       "shape: (5, 6)\n",
       "┌────────────┬────────┬────────────┬─────────────┬───────────────┬─────────────────────────────────┐\n",
       "│ listing_id ┆ id     ┆ date       ┆ reviewer_id ┆ reviewer_name ┆ comments                        │\n",
       "│ ---        ┆ ---    ┆ ---        ┆ ---         ┆ ---           ┆ ---                             │\n",
       "│ i64        ┆ i64    ┆ str        ┆ i64         ┆ str           ┆ str                             │\n",
       "╞════════════╪════════╪════════════╪═════════════╪═══════════════╪═════════════════════════════════╡\n",
       "│ 13913      ┆ 80770  ┆ 2010-08-18 ┆ 177109      ┆ Michael       ┆ My girlfriend and I hadn't kno… │\n",
       "│ 13913      ┆ 367568 ┆ 2011-07-11 ┆ 19835707    ┆ Mathias       ┆ Alina was a really good host. … │\n",
       "│ 13913      ┆ 529579 ┆ 2011-09-13 ┆ 1110304     ┆ Kristin       ┆ Alina is an amazing host. She … │\n",
       "│ 13913      ┆ 595481 ┆ 2011-10-03 ┆ 1216358     ┆ Camilla       ┆ Alina's place is so nice, the … │\n",
       "│ 13913      ┆ 612947 ┆ 2011-10-09 ┆ 490840      ┆ Jorik         ┆ Nice location in Islington are… │\n",
       "└────────────┴────────┴────────────┴─────────────┴───────────────┴─────────────────────────────────┘"
      ]
     },
     "execution_count": 7,
     "metadata": {},
     "output_type": "execute_result"
    }
   ],
   "source": [
    "reviews=pl.scan_csv(\"C:/Users/naomi/Documents/SCHOOL FILES/3RD YEAR/MIDYEAR/DSC1111/reviews.csv\")\n",
    "reviews.collect().head()"
   ]
  },
  {
   "cell_type": "code",
   "execution_count": 8,
   "id": "b1aff01a-3814-41fc-8bb9-68fe300a699c",
   "metadata": {},
   "outputs": [
    {
     "data": {
      "text/html": [
       "<div><style>\n",
       ".dataframe > thead > tr,\n",
       ".dataframe > tbody > tr {\n",
       "  text-align: right;\n",
       "  white-space: pre-wrap;\n",
       "}\n",
       "</style>\n",
       "<small>shape: (5, 2)</small><table border=\"1\" class=\"dataframe\"><thead><tr><th>neighbourhood_group</th><th>neighbourhood</th></tr><tr><td>str</td><td>str</td></tr></thead><tbody><tr><td>null</td><td>&quot;Barking and Dagenham&quot;</td></tr><tr><td>null</td><td>&quot;Barnet&quot;</td></tr><tr><td>null</td><td>&quot;Bexley&quot;</td></tr><tr><td>null</td><td>&quot;Brent&quot;</td></tr><tr><td>null</td><td>&quot;Bromley&quot;</td></tr></tbody></table></div>"
      ],
      "text/plain": [
       "shape: (5, 2)\n",
       "┌─────────────────────┬──────────────────────┐\n",
       "│ neighbourhood_group ┆ neighbourhood        │\n",
       "│ ---                 ┆ ---                  │\n",
       "│ str                 ┆ str                  │\n",
       "╞═════════════════════╪══════════════════════╡\n",
       "│ null                ┆ Barking and Dagenham │\n",
       "│ null                ┆ Barnet               │\n",
       "│ null                ┆ Bexley               │\n",
       "│ null                ┆ Brent                │\n",
       "│ null                ┆ Bromley              │\n",
       "└─────────────────────┴──────────────────────┘"
      ]
     },
     "execution_count": 8,
     "metadata": {},
     "output_type": "execute_result"
    }
   ],
   "source": [
    "neighbourhoods=pl.scan_csv(\"C:/Users/naomi/Documents/SCHOOL FILES/3RD YEAR/MIDYEAR/DSC1111/neighbourhoods.csv\")\n",
    "neighbourhoods.collect().head()"
   ]
  },
  {
   "cell_type": "code",
   "execution_count": 9,
   "id": "38f7756f-0611-41b9-a0db-d9bfe133f3d7",
   "metadata": {},
   "outputs": [
    {
     "data": {
      "text/html": [
       "<div><style>\n",
       ".dataframe > thead > tr,\n",
       ".dataframe > tbody > tr {\n",
       "  text-align: right;\n",
       "  white-space: pre-wrap;\n",
       "}\n",
       "</style>\n",
       "<small>shape: (5, 1)</small><table border=\"1\" class=\"dataframe\"><thead><tr><th>neighbourhood</th></tr><tr><td>str</td></tr></thead><tbody><tr><td>&quot;Barking and Dagenham&quot;</td></tr><tr><td>&quot;Barnet&quot;</td></tr><tr><td>&quot;Bexley&quot;</td></tr><tr><td>&quot;Brent&quot;</td></tr><tr><td>&quot;Bromley&quot;</td></tr></tbody></table></div>"
      ],
      "text/plain": [
       "shape: (5, 1)\n",
       "┌──────────────────────┐\n",
       "│ neighbourhood        │\n",
       "│ ---                  │\n",
       "│ str                  │\n",
       "╞══════════════════════╡\n",
       "│ Barking and Dagenham │\n",
       "│ Barnet               │\n",
       "│ Bexley               │\n",
       "│ Brent                │\n",
       "│ Bromley              │\n",
       "└──────────────────────┘"
      ]
     },
     "execution_count": 9,
     "metadata": {},
     "output_type": "execute_result"
    }
   ],
   "source": [
    "neighbourhoods_cleaned = neighbourhoods.select(\"neighbourhood\")\n",
    "neighbourhoods_cleaned.collect().head()\n"
   ]
  },
  {
   "cell_type": "code",
   "execution_count": 11,
   "id": "b020a73b-d7c0-48e6-92f2-892d09fc992f",
   "metadata": {},
   "outputs": [
    {
     "data": {
      "text/html": [
       "<div><style>\n",
       ".dataframe > thead > tr,\n",
       ".dataframe > tbody > tr {\n",
       "  text-align: right;\n",
       "  white-space: pre-wrap;\n",
       "}\n",
       "</style>\n",
       "<small>shape: (5, 22)</small><table border=\"1\" class=\"dataframe\"><thead><tr><th>id</th><th>name</th><th>description</th><th>host_id</th><th>host_name</th><th>host_location</th><th>neighbourhood_cleansed</th><th>latitude</th><th>longitude</th><th>room_type</th><th>price</th><th>minimum_nights</th><th>maximum_nights</th><th>number_of_reviews</th><th>last_review</th><th>review_scores_checkin</th><th>calculated_host_listings_count</th><th>review_scores_rating</th><th>availability_365</th><th>availability_60</th><th>number_of_reviews_ltm</th><th>license</th></tr><tr><td>i64</td><td>str</td><td>str</td><td>i64</td><td>str</td><td>str</td><td>str</td><td>f64</td><td>f64</td><td>str</td><td>f64</td><td>i64</td><td>i64</td><td>i64</td><td>str</td><td>f64</td><td>i64</td><td>f64</td><td>i64</td><td>i64</td><td>i64</td><td>str</td></tr></thead><tbody><tr><td>91031</td><td>&quot;Apartment by Battersea Power S…</td><td>&quot;Cozy 1 bedroom flat, perfect f…</td><td>491004</td><td>&quot;Kinga&quot;</td><td>&quot;London, United Kingdom&quot;</td><td>&quot;Wandsworth&quot;</td><td>51.48089</td><td>-0.14775</td><td>&quot;Entire home/apt&quot;</td><td>94.0</td><td>6</td><td>89</td><td>25</td><td>&quot;2025-03-05&quot;</td><td>4.84</td><td>1</td><td>4.23</td><td>72</td><td>39</td><td>4</td><td>null</td></tr><tr><td>92399</td><td>&quot;modern self contained flat isl…</td><td>&quot;FULLY SELF CONTAINED. A&nbsp;&nbsp;newly…</td><td>497366</td><td>&quot;Andrea&quot;</td><td>&quot;London, United Kingdom&quot;</td><td>&quot;Islington&quot;</td><td>51.55104</td><td>-0.08324</td><td>&quot;Entire home/apt&quot;</td><td>86.0</td><td>1</td><td>365</td><td>317</td><td>&quot;2025-02-27&quot;</td><td>4.95</td><td>2</td><td>4.84</td><td>288</td><td>15</td><td>26</td><td>null</td></tr><tr><td>93015</td><td>&quot;2 bed West Kensington apartmen…</td><td>&quot;Gorgeous 2 bed ground floor ap…</td><td>499704</td><td>&quot;Sarah&quot;</td><td>&quot;Riyadh, Saudi Arabia&quot;</td><td>&quot;Hammersmith and Fulham&quot;</td><td>51.49993</td><td>-0.21707</td><td>&quot;Entire home/apt&quot;</td><td>175.0</td><td>5</td><td>1125</td><td>40</td><td>&quot;2024-11-14&quot;</td><td>4.87</td><td>1</td><td>4.85</td><td>33</td><td>18</td><td>3</td><td>null</td></tr><tr><td>93457</td><td>&quot;Camden Town on the Regent&#x27;s Ca…</td><td>&quot;You&#x27;ll find a sunny, large apa…</td><td>226756</td><td>&quot;Florin&quot;</td><td>&quot;London, United Kingdom&quot;</td><td>&quot;Camden&quot;</td><td>51.53855</td><td>-0.13592</td><td>&quot;Entire home/apt&quot;</td><td>153.0</td><td>2</td><td>365</td><td>195</td><td>&quot;2025-01-04&quot;</td><td>4.87</td><td>1</td><td>4.82</td><td>40</td><td>6</td><td>10</td><td>null</td></tr><tr><td>93783</td><td>&quot;Shown on T.V! Notting Hill Oas…</td><td>&quot;Beautifully presented 2 bedroo…</td><td>502496</td><td>&quot;Darshi Rowan And Tara&quot;</td><td>&quot;London, United Kingdom&quot;</td><td>&quot;Westminster&quot;</td><td>51.518624</td><td>-0.195871</td><td>&quot;Entire home/apt&quot;</td><td>350.0</td><td>5</td><td>365</td><td>26</td><td>&quot;2025-01-02&quot;</td><td>4.96</td><td>1</td><td>4.68</td><td>255</td><td>50</td><td>3</td><td>null</td></tr></tbody></table></div>"
      ],
      "text/plain": [
       "shape: (5, 22)\n",
       "┌───────┬─────────────────┬─────────────────┬─────────┬───┬────────────────┬────────────────┬────────────────┬─────────┐\n",
       "│ id    ┆ name            ┆ description     ┆ host_id ┆ … ┆ availability_3 ┆ availability_6 ┆ number_of_revi ┆ license │\n",
       "│ ---   ┆ ---             ┆ ---             ┆ ---     ┆   ┆ 65             ┆ 0              ┆ ews_ltm        ┆ ---     │\n",
       "│ i64   ┆ str             ┆ str             ┆ i64     ┆   ┆ ---            ┆ ---            ┆ ---            ┆ str     │\n",
       "│       ┆                 ┆                 ┆         ┆   ┆ i64            ┆ i64            ┆ i64            ┆         │\n",
       "╞═══════╪═════════════════╪═════════════════╪═════════╪═══╪════════════════╪════════════════╪════════════════╪═════════╡\n",
       "│ 91031 ┆ Apartment by    ┆ Cozy 1 bedroom  ┆ 491004  ┆ … ┆ 72             ┆ 39             ┆ 4              ┆ null    │\n",
       "│       ┆ Battersea Power ┆ flat, perfect   ┆         ┆   ┆                ┆                ┆                ┆         │\n",
       "│       ┆ S…              ┆ f…              ┆         ┆   ┆                ┆                ┆                ┆         │\n",
       "│ 92399 ┆ modern self     ┆ FULLY SELF      ┆ 497366  ┆ … ┆ 288            ┆ 15             ┆ 26             ┆ null    │\n",
       "│       ┆ contained flat  ┆ CONTAINED. A    ┆         ┆   ┆                ┆                ┆                ┆         │\n",
       "│       ┆ isl…            ┆ newly…          ┆         ┆   ┆                ┆                ┆                ┆         │\n",
       "│ 93015 ┆ 2 bed West      ┆ Gorgeous 2 bed  ┆ 499704  ┆ … ┆ 33             ┆ 18             ┆ 3              ┆ null    │\n",
       "│       ┆ Kensington      ┆ ground floor    ┆         ┆   ┆                ┆                ┆                ┆         │\n",
       "│       ┆ apartmen…       ┆ ap…             ┆         ┆   ┆                ┆                ┆                ┆         │\n",
       "│ 93457 ┆ Camden Town on  ┆ You'll find a   ┆ 226756  ┆ … ┆ 40             ┆ 6              ┆ 10             ┆ null    │\n",
       "│       ┆ the Regent's    ┆ sunny, large    ┆         ┆   ┆                ┆                ┆                ┆         │\n",
       "│       ┆ Ca…             ┆ apa…            ┆         ┆   ┆                ┆                ┆                ┆         │\n",
       "│ 93783 ┆ Shown on T.V!   ┆ Beautifully     ┆ 502496  ┆ … ┆ 255            ┆ 50             ┆ 3              ┆ null    │\n",
       "│       ┆ Notting Hill    ┆ presented 2     ┆         ┆   ┆                ┆                ┆                ┆         │\n",
       "│       ┆ Oas…            ┆ bedroo…         ┆         ┆   ┆                ┆                ┆                ┆         │\n",
       "└───────┴─────────────────┴─────────────────┴─────────┴───┴────────────────┴────────────────┴────────────────┴─────────┘"
      ]
     },
     "execution_count": 11,
     "metadata": {},
     "output_type": "execute_result"
    }
   ],
   "source": [
    "listings_cleaned = listings.select(\n",
    "        \"id\", \"name\",\"description\", \"host_id\", \"host_name\",\"host_location\",\n",
    "        \"neighbourhood_cleansed\", \"latitude\", \"longitude\", \"room_type\",\n",
    "        \"price\", \"minimum_nights\",\"maximum_nights\",\"number_of_reviews\", \"last_review\", \"review_scores_checkin\"\n",
    "         , \"calculated_host_listings_count\", \"review_scores_rating\", \n",
    "        \"availability_365\",\"availability_60\", \"number_of_reviews_ltm\", \"license\"\n",
    "    ).with_columns(\n",
    "    price = pl.col(\"price\").str.strip_prefix(\"$\").str.replace_all(\",\",\"\").cast(pl.Float64)\n",
    ").filter(~pl.col(\"price\").is_null() & ~pl.col(\"id\").is_null())\n",
    "\n",
    "listings_cleaned.collect().head()"
   ]
  },
  {
   "cell_type": "code",
   "execution_count": 13,
   "id": "a1eb0d4b-40f4-48c3-b4ef-af01739a0476",
   "metadata": {
    "scrolled": true
   },
   "outputs": [
    {
     "data": {
      "text/html": [
       "<div><style>\n",
       ".dataframe > thead > tr,\n",
       ".dataframe > tbody > tr {\n",
       "  text-align: right;\n",
       "  white-space: pre-wrap;\n",
       "}\n",
       "</style>\n",
       "<small>shape: (5, 6)</small><table border=\"1\" class=\"dataframe\"><thead><tr><th>listing_id</th><th>date</th><th>available</th><th>price</th><th>minimum_nights</th><th>maximum_nights</th></tr><tr><td>i64</td><td>str</td><td>str</td><td>f64</td><td>i64</td><td>i64</td></tr></thead><tbody><tr><td>1368654587297245051</td><td>&quot;2026-03-03&quot;</td><td>&quot;t&quot;</td><td>169.0</td><td>1</td><td>365</td></tr><tr><td>1368654587297245051</td><td>&quot;2026-03-04&quot;</td><td>&quot;t&quot;</td><td>169.0</td><td>1</td><td>365</td></tr><tr><td>1368654587297245051</td><td>&quot;2026-03-05&quot;</td><td>&quot;t&quot;</td><td>169.0</td><td>1</td><td>365</td></tr><tr><td>1368654587297245051</td><td>&quot;2026-03-06&quot;</td><td>&quot;t&quot;</td><td>169.0</td><td>1</td><td>365</td></tr><tr><td>1368654587297245051</td><td>&quot;2026-03-07&quot;</td><td>&quot;t&quot;</td><td>169.0</td><td>1</td><td>365</td></tr></tbody></table></div>"
      ],
      "text/plain": [
       "shape: (5, 6)\n",
       "┌─────────────────────┬────────────┬───────────┬───────┬────────────────┬────────────────┐\n",
       "│ listing_id          ┆ date       ┆ available ┆ price ┆ minimum_nights ┆ maximum_nights │\n",
       "│ ---                 ┆ ---        ┆ ---       ┆ ---   ┆ ---            ┆ ---            │\n",
       "│ i64                 ┆ str        ┆ str       ┆ f64   ┆ i64            ┆ i64            │\n",
       "╞═════════════════════╪════════════╪═══════════╪═══════╪════════════════╪════════════════╡\n",
       "│ 1368654587297245051 ┆ 2026-03-03 ┆ t         ┆ 169.0 ┆ 1              ┆ 365            │\n",
       "│ 1368654587297245051 ┆ 2026-03-04 ┆ t         ┆ 169.0 ┆ 1              ┆ 365            │\n",
       "│ 1368654587297245051 ┆ 2026-03-05 ┆ t         ┆ 169.0 ┆ 1              ┆ 365            │\n",
       "│ 1368654587297245051 ┆ 2026-03-06 ┆ t         ┆ 169.0 ┆ 1              ┆ 365            │\n",
       "│ 1368654587297245051 ┆ 2026-03-07 ┆ t         ┆ 169.0 ┆ 1              ┆ 365            │\n",
       "└─────────────────────┴────────────┴───────────┴───────┴────────────────┴────────────────┘"
      ]
     },
     "execution_count": 13,
     "metadata": {},
     "output_type": "execute_result"
    }
   ],
   "source": [
    "calendar_cleaned = calendar.select(pl.exclude(\"adjusted_price\")).filter(\n",
    "    ~pl.col(\"price\").is_null() & ~pl.col(\"listing_id\").is_null()\n",
    ").with_columns(\n",
    "    price = pl.col(\"price\").str.strip_prefix(\"$\").str.replace_all(\",\",\"\").cast(pl.Float64)\n",
    ")\n",
    "calendar_cleaned.collect().tail()"
   ]
  },
  {
   "cell_type": "code",
   "execution_count": 22,
   "id": "e6f5d041-c531-4978-a0e4-4835c5ebe997",
   "metadata": {},
   "outputs": [],
   "source": [
    "\n",
    "calendar_cleaned.collect().write_csv(\"calendar_cleaned.csv\")\n",
    "listings_cleaned.collect().write_csv(\"listings_cleaned.csv\")\n",
    "neighbourhoods_cleaned.collect().write_csv(\"neighbourhoods_cleaned.csv\")\n"
   ]
  },
  {
   "cell_type": "code",
   "execution_count": 23,
   "id": "50c84fc8-8455-47e6-bb9f-3604fe7d5952",
   "metadata": {},
   "outputs": [],
   "source": [
    "###calendar_cleaned.to_csv(\"calendar_cleaned.csv\", index=False)\n",
    " #listings_cleaned.to_csv(\"listings_cleaned.csv\", index=False)\n",
    "#neighbourhoods_cleaned.to_csv(\"neighbourhoods_cleaned.csv\", index=False)"
   ]
  },
  {
   "cell_type": "code",
   "execution_count": 24,
   "id": "33fd2224-9c50-40a4-a430-83697e3f26b8",
   "metadata": {},
   "outputs": [
    {
     "data": {
      "text/html": [
       "<a href='neighbourhoods_cleaned.csv' target='_blank'>neighbourhoods_cleaned.csv</a><br>"
      ],
      "text/plain": [
       "C:\\Users\\naomi\\neighbourhoods_cleaned.csv"
      ]
     },
     "execution_count": 24,
     "metadata": {},
     "output_type": "execute_result"
    }
   ],
   "source": [
    "from IPython.display import FileLink\n",
    "\n",
    "FileLink(\"neighbourhoods_cleaned.csv\")\n"
   ]
  },
  {
   "cell_type": "code",
   "execution_count": null,
   "id": "36d2833c-164c-4bc4-b7fb-3a7b8f1f5641",
   "metadata": {},
   "outputs": [],
   "source": []
  }
 ],
 "metadata": {
  "kernelspec": {
   "display_name": "Python 3 (ipykernel)",
   "language": "python",
   "name": "python3"
  },
  "language_info": {
   "codemirror_mode": {
    "name": "ipython",
    "version": 3
   },
   "file_extension": ".py",
   "mimetype": "text/x-python",
   "name": "python",
   "nbconvert_exporter": "python",
   "pygments_lexer": "ipython3",
   "version": "3.11.7"
  }
 },
 "nbformat": 4,
 "nbformat_minor": 5
}
